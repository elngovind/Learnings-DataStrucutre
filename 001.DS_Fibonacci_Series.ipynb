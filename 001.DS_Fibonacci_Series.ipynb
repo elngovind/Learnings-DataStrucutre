{
 "metadata": {
  "language_info": {
   "codemirror_mode": {
    "name": "ipython",
    "version": 3
   },
   "file_extension": ".py",
   "mimetype": "text/x-python",
   "name": "python",
   "nbconvert_exporter": "python",
   "pygments_lexer": "ipython3",
   "version": "3.9.5"
  },
  "orig_nbformat": 4,
  "kernelspec": {
   "name": "python3",
   "display_name": "Python 3.9.5 64-bit ('3.9')"
  },
  "interpreter": {
   "hash": "7812ea015bdcee6f23a998adcdd2ef97c151c0c241b7b7070987d9313e41299d"
  }
 },
 "nbformat": 4,
 "nbformat_minor": 2,
 "cells": [
  {
   "source": [
    "\n",
    "Use of Recursion\n",
    "Goal: Writea function to return the nth term of Fibonacci Series\n",
    "-- Fast\n",
    "-- Rocksolid\n",
    "-- Clearly Written"
   ],
   "cell_type": "markdown",
   "metadata": {}
  },
  {
   "source": [
    "# 0,1,1,2,3,5,8,13,21,34 and so on\n",
    "# By Using Recursion\n",
    "\n",
    "def fibonacci(n):\n",
    "    if n == 1:\n",
    "        return 1\n",
    "    elif n == 2:\n",
    "        return 1\n",
    "    elif n > 2:\n",
    "        return fibonacci(n-1) + fibonacci(n-2)\n",
    "\n",
    "for n in range (1,11):\n",
    "    print(n, \":\", fibonacci(n))\n"
   ],
   "cell_type": "code",
   "metadata": {},
   "execution_count": null,
   "outputs": []
  },
  {
   "source": [
    "#fibonacci Cache\n",
    "# This will lead to an Improved performance of the above script, as the previous script was taking Alot of time\n",
    "\n",
    "fibonacci_cache = {}\n",
    "def fibonacci(n):\n",
    "    #If we have cached the value then return it\n",
    "    if n in fibonacci_cache:\n",
    "        return fibonacci_cache[n]\n",
    "    # Compute the nth Term\n",
    "    if n == 1:\n",
    "        value = 1\n",
    "    elif n == 2:\n",
    "        value = 1\n",
    "    elif n > 2:\n",
    "        value = fibonacci(n-1) + fibonacci(n-2)\n",
    "\n",
    "    # Cache the Value and return it\n",
    "    fibonacci_cache[n] = value\n",
    "    return value\n",
    "\n",
    "    for n in range (1,1001):\n",
    "        print(n, \":\", fibonacci(n))"
   ],
   "cell_type": "code",
   "metadata": {},
   "execution_count": null,
   "outputs": []
  },
  {
   "cell_type": "code",
   "execution_count": null,
   "metadata": {},
   "outputs": [],
   "source": []
  }
 ]
}